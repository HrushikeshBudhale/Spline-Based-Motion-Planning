{
 "cells": [
  {
   "cell_type": "code",
   "execution_count": 1,
   "metadata": {},
   "outputs": [],
   "source": [
    "from omgtools import *"
   ]
  },
  {
   "cell_type": "code",
   "execution_count": 52,
   "metadata": {},
   "outputs": [],
   "source": [
    "vehicle = HolonomicOrient()\n",
    "vehicle.set_options({'safety_distance': 0.2})\n",
    "vehicle.set_options({'ideal_prediction': False})\n",
    "vehicle.set_initial_conditions([-0.4, -0.45, -np.pi/2])\n",
    "vehicle.set_terminal_conditions([.5, .45, 0.0])\n",
    "\n",
    "environment = Environment(room={'shape': Square(1.5)})"
   ]
  },
  {
   "cell_type": "code",
   "execution_count": 53,
   "metadata": {},
   "outputs": [],
   "source": [
    "# create a dynamic obstacle\n",
    "circle = Circle(radius=.2)\n",
    "environment.add_obstacle(Obstacle({'position': [-0.1, 0.1]}, shape=circle))"
   ]
  },
  {
   "cell_type": "code",
   "execution_count": 54,
   "metadata": {},
   "outputs": [
    {
     "name": "stdout",
     "output_type": "stream",
     "text": [
      "Building nlp ...  in 1.317912 s\n"
     ]
    }
   ],
   "source": [
    "problem = Point2point(vehicle, environment, freeT=False)\n",
    "problem.set_options({'solver_options':\n",
    "    {'ipopt': {'ipopt.hessian_approximation': 'limited-memory'}}})\n",
    "problem.init()\n",
    "\n",
    "vehicle.problem = problem"
   ]
  },
  {
   "cell_type": "code",
   "execution_count": 55,
   "metadata": {},
   "outputs": [
    {
     "name": "stdout",
     "output_type": "stream",
     "text": [
      "----|------------|------------\n",
      " It |      t upd |       time \n",
      "----|------------|------------\n",
      "  1 | 6.4144e-01 | 0.0000e+00 \n",
      "  2 | 1.4248e-01 | 1.0000e-01 \n",
      "  3 | 1.2415e-01 | 2.0000e-01 \n",
      "  4 | 1.0586e-01 | 3.0000e-01 \n",
      "  5 | 1.8332e-01 | 4.0000e-01 \n",
      "  6 | 1.5178e-01 | 5.0000e-01 \n",
      "  7 | 1.7970e-01 | 6.0000e-01 \n",
      "  8 | 9.8895e-02 | 7.0000e-01 \n",
      "  9 | 9.8666e-02 | 8.0000e-01 \n",
      " 10 | 1.2806e-01 | 9.0000e-01 \n",
      " 11 | 1.5682e-01 | 1.0000e+00 \n",
      " 12 | 8.2355e-02 | 1.1000e+00 \n",
      " 13 | 1.2280e-01 | 1.2000e+00 \n",
      " 14 | 2.3004e-01 | 1.3000e+00 \n",
      " 15 | 1.2835e-01 | 1.4000e+00 \n",
      " 16 | 1.9956e-01 | 1.5000e+00 \n",
      " 17 | 1.3042e-01 | 1.6000e+00 \n",
      " 18 | 1.5419e-01 | 1.7000e+00 \n",
      " 19 | 1.2398e-01 | 1.8000e+00 \n",
      " 20 | 1.2562e-01 | 1.9000e+00 \n",
      "----|------------|------------\n",
      " It |      t upd |       time \n",
      "----|------------|------------\n",
      " 21 | 1.9116e-01 | 2.0000e+00 \n",
      " 22 | 1.2763e-01 | 2.1000e+00 \n",
      " 23 | 1.8249e-01 | 2.2000e+00 \n",
      " 24 | 1.2511e-01 | 2.3000e+00 \n",
      " 25 | 1.2550e-01 | 2.4000e+00 \n",
      " 26 | 1.4824e-01 | 2.5000e+00 \n",
      " 27 | 1.0517e-01 | 2.6000e+00 \n",
      " 28 | 1.0275e-01 | 2.7000e+00 \n",
      " 29 | 1.6012e-01 | 2.8000e+00 \n",
      " 30 | 4.0043e-01 | 2.9000e+00 \n",
      " 31 | 1.5581e-01 | 3.0000e+00 \n",
      " 32 | 1.1064e-01 | 3.1000e+00 \n",
      " 33 | 1.0355e-01 | 3.2000e+00 \n",
      " 34 | 1.0812e-01 | 3.3000e+00 \n",
      " 35 | 1.2916e-01 | 3.4000e+00 \n",
      " 36 | 1.3234e-01 | 3.5000e+00 \n",
      " 37 | 2.1478e-01 | 3.6000e+00 \n",
      " 38 | 1.5265e-01 | 3.7000e+00 \n",
      " 39 | 1.4838e-01 | 3.8000e+00 \n",
      " 40 | 6.0291e-01 | 3.9000e+00 \n",
      "----|------------|------------\n",
      " It |      t upd |       time \n",
      "----|------------|------------\n",
      " 41 | 9.9626e-02 | 4.0000e+00 \n",
      " 42 | 1.0460e-01 | 4.1000e+00 \n",
      " 43 | 9.9650e-02 | 4.2000e+00 \n",
      " 44 | 1.0137e-01 | 4.3000e+00 \n",
      " 45 | 1.0607e-01 | 4.4000e+00 \n",
      " 46 | 1.0342e-01 | 4.5000e+00 \n",
      " 47 | 1.8360e-01 | 4.6000e+00 \n",
      " 48 | 1.4545e-01 | 4.7000e+00 \n",
      " 49 | 1.1760e-01 | 4.8000e+00 \n",
      "\n",
      "We reached our target!\n",
      "Objective:         5.02619\n",
      "Max update time:   641.443 ms\n",
      "Av update time:    161.159 ms\n"
     ]
    }
   ],
   "source": [
    "\n",
    "simulator = Simulator(problem)\n",
    "problem.plot('scene')\n",
    "simulator.run()\n",
    "problem.save_movie('scene', format='gif', name='obstacle_hyperplane', number_of_frames=80, movie_time=6, axis=True)"
   ]
  },
  {
   "cell_type": "code",
   "execution_count": null,
   "metadata": {},
   "outputs": [],
   "source": []
  }
 ],
 "metadata": {
  "interpreter": {
   "hash": "e7370f93d1d0cde622a1f8e1c04877d8463912d04d973331ad4851f04de6915a"
  },
  "kernelspec": {
   "display_name": "Python 3.8.10 64-bit",
   "language": "python",
   "name": "python3"
  },
  "language_info": {
   "codemirror_mode": {
    "name": "ipython",
    "version": 3
   },
   "file_extension": ".py",
   "mimetype": "text/x-python",
   "name": "python",
   "nbconvert_exporter": "python",
   "pygments_lexer": "ipython3",
   "version": "3.8.10"
  },
  "orig_nbformat": 4
 },
 "nbformat": 4,
 "nbformat_minor": 2
}
