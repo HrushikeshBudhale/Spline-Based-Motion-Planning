{
 "cells": [
  {
   "cell_type": "code",
   "execution_count": 2,
   "metadata": {},
   "outputs": [],
   "source": [
    "import casadi as cs\n",
    "import numpy as np\n",
    "import matplotlib.pyplot as plt"
   ]
  },
  {
   "cell_type": "code",
   "execution_count": 45,
   "metadata": {},
   "outputs": [],
   "source": [
    "opti = cs.Opti()\n",
    "\n",
    "t = opti.variable()\n",
    "a0 = opti.variable()\n",
    "a1 = opti.variable()\n",
    "a2 = opti.variable()\n"
   ]
  },
  {
   "cell_type": "code",
   "execution_count": 46,
   "metadata": {},
   "outputs": [
    {
     "name": "stdout",
     "output_type": "stream",
     "text": [
      "This is Ipopt version 3.12.3, running with linear solver mumps.\n",
      "NOTE: Other linear solvers might be more efficient (see Ipopt documentation).\n",
      "\n",
      "Number of nonzeros in equality constraint Jacobian...:        0\n",
      "Number of nonzeros in inequality constraint Jacobian.:        5\n",
      "Number of nonzeros in Lagrangian Hessian.............:        3\n",
      "\n",
      "Total number of variables............................:        4\n",
      "                     variables with only lower bounds:        0\n",
      "                variables with lower and upper bounds:        0\n",
      "                     variables with only upper bounds:        0\n",
      "Total number of equality constraints.................:        0\n",
      "Total number of inequality constraints...............:        5\n",
      "        inequality constraints with only lower bounds:        3\n",
      "   inequality constraints with lower and upper bounds:        0\n",
      "        inequality constraints with only upper bounds:        2\n",
      "\n",
      "iter    objective    inf_pr   inf_du lg(mu)  ||d||  lg(rg) alpha_du alpha_pr  ls\n",
      "   0  0.0000000e+00 5.00e+00 0.00e+00  -1.0 0.00e+00    -  0.00e+00 0.00e+00   0\n",
      "   1  1.8286897e+03 4.51e+00 4.74e+04  -1.0 2.26e+03  -2.0 4.40e-04 9.63e-02h  1\n",
      "   2  9.5151271e+02 4.51e+00 4.74e+04  -1.0 1.95e+01   2.9 4.71e-02 9.65e-04f  1\n",
      "   3  9.6087916e+02 4.50e+00 4.74e+04  -1.0 2.48e+00   2.5 1.00e+00 1.05e-03h  1\n",
      "   4  9.4254318e+05 1.32e+00 4.11e+06  -1.0 2.90e+03    -  6.91e-03 6.99e-01h  1\n",
      "   5  9.4001902e+05 1.32e+00 4.11e+06  -1.0 6.04e+03    -  1.10e-05 1.09e-03f  1\n",
      "   6  9.3956361e+05 1.32e+00 4.11e+06  -1.0 2.74e+03    -  5.70e-03 2.00e-04f  1\n",
      "   7  9.3941654e+05 1.32e+00 4.11e+06  -1.0 3.66e+00   2.0 3.09e-03 1.17e-04f  1\n",
      "   8  9.3894493e+05 1.32e+00 4.11e+06  -1.0 2.50e+03    -  1.79e-03 2.10e-04f  1\n",
      "   9  4.1241158e+05 0.00e+00 7.65e+06  -1.0 2.77e+03    -  1.54e-05 1.00e+00f  1\n",
      "iter    objective    inf_pr   inf_du lg(mu)  ||d||  lg(rg) alpha_du alpha_pr  ls\n",
      "  10  3.7215763e+05 0.00e+00 7.65e+06  -1.0 2.11e+02   3.3 2.62e-03 2.05e-04f  1\n",
      "  11  3.7175566e+05 0.00e+00 7.75e+06  -1.0 8.74e+01   2.8 1.00e+00 1.36e-05f  1\n",
      "  12  2.2375898e+00 0.00e+00 9.40e+05  -1.0 9.64e+02    -  5.22e-01 1.00e+00f  1\n",
      "  13  2.2163403e+00 0.00e+00 9.64e+01  -1.0 2.47e-02    -  9.91e-01 1.00e+00f  1\n",
      "  14  2.1818613e+00 0.00e+00 1.87e-04  -1.0 1.61e-02    -  1.00e+00 1.00e+00f  1\n",
      "  15  1.9833302e+00 0.00e+00 2.35e-03  -2.5 9.72e-02    -  1.00e+00 1.00e+00f  1\n",
      "  16  1.9754419e+00 0.00e+00 1.32e-05  -3.8 3.63e-03    -  1.00e+00 1.00e+00f  1\n",
      "  17  1.9750053e+00 0.00e+00 3.95e-08  -5.7 1.99e-04    -  1.00e+00 1.00e+00f  1\n",
      "  18  1.9749998e+00 0.00e+00 6.27e-12  -8.6 2.50e-06    -  1.00e+00 1.00e+00f  1\n",
      "\n",
      "Number of Iterations....: 18\n",
      "\n",
      "                                   (scaled)                 (unscaled)\n",
      "Objective...............:   1.9749998213889990e+00    1.9749998213889990e+00\n",
      "Dual infeasibility......:   6.2687632862434839e-12    6.2687632862434839e-12\n",
      "Constraint violation....:   0.0000000000000000e+00    0.0000000000000000e+00\n",
      "Complementarity.........:   2.5059039288067371e-09    2.5059039288067371e-09\n",
      "Overall NLP error.......:   2.5059039288067371e-09    2.5059039288067371e-09\n",
      "\n",
      "\n",
      "Number of objective function evaluations             = 19\n",
      "Number of objective gradient evaluations             = 19\n",
      "Number of equality constraint evaluations            = 0\n",
      "Number of inequality constraint evaluations          = 19\n",
      "Number of equality constraint Jacobian evaluations   = 0\n",
      "Number of inequality constraint Jacobian evaluations = 19\n",
      "Number of Lagrangian Hessian evaluations             = 18\n",
      "Total CPU secs in IPOPT (w/o function evaluations)   =      0.013\n",
      "Total CPU secs in NLP function evaluations           =      0.001\n",
      "\n",
      "EXIT: Optimal Solution Found.\n",
      "      solver  :   t_proc      (avg)   t_wall      (avg)    n_eval\n",
      "       nlp_f  |  99.00us (  5.21us) 113.41us (  5.97us)        19\n",
      "       nlp_g  | 161.00us (  8.47us) 150.75us (  7.93us)        19\n",
      "  nlp_grad_f  | 118.00us (  5.90us) 126.84us (  6.34us)        20\n",
      "  nlp_hess_l  | 217.00us ( 12.06us) 212.48us ( 11.80us)        18\n",
      "   nlp_jac_g  | 126.00us (  6.30us) 141.87us (  7.09us)        20\n",
      "       total  |  15.30ms ( 15.30ms)  15.88ms ( 15.88ms)         1\n"
     ]
    }
   ],
   "source": [
    "def f(t): return a0+(a1*t)+(a2*t**2)\n",
    "\n",
    "opti.minimize( f(t) )\n",
    "\n",
    "opti.subject_to( a0 >= 5 )\n",
    "opti.subject_to( a1 <= 2.2 )\n",
    "opti.subject_to( a1 >= 0 )\n",
    "opti.subject_to( a2 >= 0.4 )\n",
    "opti.subject_to( a2 <= 1 )\n",
    "\n",
    "opti.solver('ipopt')\n",
    "sol = opti.solve()"
   ]
  },
  {
   "cell_type": "code",
   "execution_count": 47,
   "metadata": {},
   "outputs": [
    {
     "name": "stdout",
     "output_type": "stream",
     "text": [
      "Coefficients \n",
      " a0 = 4.999999952505904,\n",
      " a1 = 2.2000000210891675,\n",
      " a2 = 0.39999999033101596\n"
     ]
    }
   ],
   "source": [
    "# found coefficients\n",
    "\n",
    "print(f'Coefficients \\n a0 = {sol.value(a0)},\\n a1 = {sol.value(a1)},\\n a2 = {sol.value(a2)}')"
   ]
  },
  {
   "cell_type": "code",
   "execution_count": 48,
   "metadata": {},
   "outputs": [],
   "source": [
    "# using these coefficients to plot the graph\n",
    "\n",
    "a0 = sol.value(a0)\n",
    "a1 = sol.value(a1)\n",
    "a2 = sol.value(a2)\n",
    "t_ans = sol.value(t)\n",
    "\n",
    "\n",
    "t = np.linspace(-5, 5, 20)\n",
    "y = f(t)\n",
    "y_ans = f(t_ans)"
   ]
  },
  {
   "cell_type": "code",
   "execution_count": 49,
   "metadata": {},
   "outputs": [
    {
     "data": {
      "image/png": "[encoded data removed]",
      "text/plain": [
       "<Figure size 432x288 with 1 Axes>"
      ]
     },
     "metadata": {
      "needs_background": "light"
     },
     "output_type": "display_data"
    }
   ],
   "source": [
    "fig = plt.figure()\n",
    "plt.plot(t, y, 'b', lw=1)\n",
    "plt.scatter(t_ans, y_ans, c='r')\n",
    "plt.show()"
   ]
  }
 ],
 "metadata": {
  "interpreter": {
   "hash": "e7370f93d1d0cde622a1f8e1c04877d8463912d04d973331ad4851f04de6915a"
  },
  "kernelspec": {
   "display_name": "Python 3.8.10 64-bit",
   "language": "python",
   "name": "python3"
  },
  "language_info": {
   "codemirror_mode": {
    "name": "ipython",
    "version": 3
   },
   "file_extension": ".py",
   "mimetype": "text/x-python",
   "name": "python",
   "nbconvert_exporter": "python",
   "pygments_lexer": "ipython3",
   "version": "3.8.10"
  },
  "orig_nbformat": 4
 },
 "nbformat": 4,
 "nbformat_minor": 2
}
