{
 "cells": [
  {
   "cell_type": "code",
   "execution_count": 9,
   "metadata": {},
   "outputs": [],
   "source": [
    "import casadi as cs\n",
    "import numpy as np\n",
    "import matplotlib.pyplot as plt"
   ]
  },
  {
   "cell_type": "code",
   "execution_count": 178,
   "metadata": {},
   "outputs": [],
   "source": [
    "opti = cs.Opti()\n",
    "\n",
    "T = opti.variable()\n",
    "a0 = opti.variable()\n",
    "a1 = opti.variable()\n",
    "a2 = opti.variable()\n",
    "a3 = opti.variable()\n",
    "a4 = opti.variable()\n",
    "a5 = opti.variable()"
   ]
  },
  {
   "cell_type": "code",
   "execution_count": null,
   "metadata": {},
   "outputs": [],
   "source": [
    "def max_df(T):\n",
    "    # gets maximum value of df by sampling at 5 intervals \n",
    "    x0 = cs.fabs(a1 + (2*a2*(0*T/4)) + (3*a3*(0*T/4)**2) + (4*a4*(0*T/4)**3) + (5*a5*(0*T/4)**4))\n",
    "    x1 = cs.fabs(a1 + (2*a2*(1*T/4)) + (3*a3*(1*T/4)**2) + (4*a4*(1*T/4)**3) + (5*a5*(1*T/4)**4))\n",
    "    x2 = cs.fabs(a1 + (2*a2*(2*T/4)) + (3*a3*(2*T/4)**2) + (4*a4*(2*T/4)**3) + (5*a5*(2*T/4)**4))\n",
    "    x3 = cs.fabs(a1 + (2*a2*(3*T/4)) + (3*a3*(3*T/4)**2) + (4*a4*(3*T/4)**3) + (5*a5*(3*T/4)**4))\n",
    "    x4 = cs.fabs(a1 + (2*a2*(4*T/4)) + (3*a3*(3*T/4)**2) + (4*a4*(3*T/4)**3) + (5*a5*(3*T/4)**4))\n",
    "    return cs.fmax(cs.fmax(cs.fmax(x0, x1), cs.fmax(x2, x3)), x4)\n",
    "\n",
    "def f(t):   return   a0 +   (a1*t) +    (a2*t**2) +    (a3*t**3) +   (a4*t**4) + (a5*t**5)\n",
    "def df(t):  return   a1 + (2*a2*t) +  (3*a3*t**2) +  (4*a4*t**3) + (5*a5*t**4)\n",
    "def ddf(t): return 2*a2 + (6*a3*t) + (12*a4*t**2) + (20*a5*t**3)\n",
    "\n",
    "opti.minimize( T )\n",
    "\n",
    "opti.subject_to( T > 0.1 )\n",
    "opti.subject_to( f(0) == 2 )\n",
    "opti.subject_to( df(0) == 0 )\n",
    "opti.subject_to( ddf(0) == 0 )\n",
    "opti.subject_to( f(T) == 10 )\n",
    "opti.subject_to( df(T) == 0 )\n",
    "opti.subject_to( ddf(T) == 0 )\n",
    "\n",
    "opti.subject_to( max_df(T) <= 5)    # Adding constraint on maximum achievable velocity\n",
    "\n",
    "opti.solver('ipopt')\n",
    "sol = opti.solve()"
   ]
  },
  {
   "cell_type": "code",
   "execution_count": 180,
   "metadata": {},
   "outputs": [
    {
     "name": "stdout",
     "output_type": "stream",
     "text": [
      "Coefficients \n",
      " a0 = 2.0,\n",
      " a1 = 6.199087008496415e-34,\n",
      " a2 = 0.0,\n",
      " a3 = 2.9629630444202992,\n",
      " a4 = -1.4814815357852225,\n",
      " a5 = 0.1975308732479608\n"
     ]
    }
   ],
   "source": [
    "# found coefficients\n",
    "print(f'Coefficients \\n a0 = {sol.value(a0)},\\n a1 = {sol.value(a1)},\\n a2 = {sol.value(a2)},\\n a3 = {sol.value(a3)},\\n a4 = {sol.value(a4)},\\n a5 = {sol.value(a5)}')"
   ]
  },
  {
   "cell_type": "code",
   "execution_count": 181,
   "metadata": {},
   "outputs": [],
   "source": [
    "# using these coefficients to plot the graph\n",
    "a0 = sol.value(a0)\n",
    "a1 = sol.value(a1)\n",
    "a2 = sol.value(a2)\n",
    "a3 = sol.value(a3)\n",
    "a4 = sol.value(a4)\n",
    "a5 = sol.value(a5)\n",
    "T = sol.value(T)"
   ]
  },
  {
   "cell_type": "code",
   "execution_count": 183,
   "metadata": {},
   "outputs": [
    {
     "data": {
      "image/png": "[encoded data removed]",
      "text/plain": [
       "<Figure size 1080x288 with 3 Axes>"
      ]
     },
     "metadata": {
      "needs_background": "light"
     },
     "output_type": "display_data"
    }
   ],
   "source": [
    "t = np.linspace(0, T, 50)\n",
    "fig, axs = plt.subplots(1, 3, figsize=(15, 4))\n",
    "axs[0].set(title=\"Position\")\n",
    "axs[0].plot(t, f(t), 'b', lw=2)\n",
    "\n",
    "axs[1].set(title=\"Velocity\")\n",
    "axs[1].plot(t, df(t), 'b', lw=2)\n",
    "\n",
    "axs[2].set(title=\"Acceleration\")\n",
    "axs[2].plot(t, ddf(t), 'b', lw=2)\n",
    "plt.show()"
   ]
  },
  {
   "cell_type": "code",
   "execution_count": null,
   "metadata": {},
   "outputs": [],
   "source": []
  }
 ],
 "metadata": {
  "interpreter": {
   "hash": "e7370f93d1d0cde622a1f8e1c04877d8463912d04d973331ad4851f04de6915a"
  },
  "kernelspec": {
   "display_name": "Python 3.8.10 64-bit",
   "language": "python",
   "name": "python3"
  },
  "language_info": {
   "codemirror_mode": {
    "name": "ipython",
    "version": 3
   },
   "file_extension": ".py",
   "mimetype": "text/x-python",
   "name": "python",
   "nbconvert_exporter": "python",
   "pygments_lexer": "ipython3",
   "version": "3.8.10"
  },
  "orig_nbformat": 4
 },
 "nbformat": 4,
 "nbformat_minor": 2
}
