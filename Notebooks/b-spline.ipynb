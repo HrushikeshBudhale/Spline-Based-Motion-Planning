{
 "cells": [
  {
   "cell_type": "code",
   "execution_count": 33,
   "metadata": {},
   "outputs": [],
   "source": [
    "import numpy as np\n",
    "from matplotlib import pyplot as plt"
   ]
  },
  {
   "cell_type": "code",
   "execution_count": 193,
   "metadata": {},
   "outputs": [],
   "source": [
    "def interpolate(t, degree, points, knots=[], weights=[]):\n",
    "    n = len(points)\n",
    "    d = len(points[0])\n",
    "\n",
    "    if degree < 1:\n",
    "        print(\"degree must be at least 1 (linear)\")\n",
    "        return None\n",
    "    if degree > (n-1):\n",
    "        print(\"degree must be less than or equal to point count - 1\")\n",
    "        return None\n",
    "\n",
    "    if len(weights) == 0:\n",
    "        # build weight vector of length [n]\n",
    "        weights = [1]*n\n",
    "    \n",
    "    if len(knots) == 0:\n",
    "        # build knot vector of length [n + degree + 1]\n",
    "        knots = [i for i in range(n+degree+1)]\n",
    "    elif len(knots) != n+degree+1:\n",
    "        print(\"bad knot vector length\")\n",
    "        return None\n",
    "    \n",
    "    domain = [degree, len(knots)-1-degree]\n",
    "    # domain = [degree, len(knots)-1-degree]\n",
    "\n",
    "    low = knots[domain[0]]\n",
    "    high = knots[domain[1]]\n",
    "\n",
    "    # map given t to [low, high]\n",
    "    t = t * (high - low) + low\n",
    "\n",
    "    if t < low or t > high:\n",
    "        print(\"out of bounds\")\n",
    "        return None\n",
    "\n",
    "    # find s (the spline segment) for the [t] value provided\n",
    "    for s in range(domain[0], domain[1]):\n",
    "        if knots[s] <= t <= knots[s+1]:\n",
    "            break\n",
    "    \n",
    "    # convert points to homogeneous coordinates\n",
    "    v = [0]*n\n",
    "    for i in range(n):\n",
    "        v[i] = [0]*(d+1)\n",
    "        for j in range(d):\n",
    "            v[i][j] = points[i][j] * weights[i]\n",
    "        v[i][d] = weights[i]\n",
    "\n",
    "    # l (level) goes from 1 to the curve degree + 1\n",
    "    for l in range(1, degree+2):\n",
    "        # build level l of the pyramid\n",
    "        for i in range(s, s-degree-1+l, -1):\n",
    "            alpha = (t - knots[i]) / (knots[i+degree+1-l] - knots[i])\n",
    "            # interpolate each component\n",
    "            for j in range(d+1):\n",
    "                v[i][j] = (alpha * v[i][j]) + ((1 - alpha) * v[i-1][j])\n",
    "\n",
    "    \n",
    "    # convert back to cartesian and return\n",
    "    result = [0]*d\n",
    "    for i in range(d):\n",
    "        result[i] = v[s][i] / v[s][d]\n",
    "\n",
    "    return result\n",
    "\n",
    "def plot_interpolation(points, result):\n",
    "    plt.figure()\n",
    "    plt.plot(result[:,0], result[:,1], 'b', lw=2)\n",
    "    plt.plot(points[:,0], points[:,1], 'r--', lw=1)\n",
    "    plt.scatter(points[:,0], points[:,1], c='g')\n",
    "    plt.show()"
   ]
  },
  {
   "cell_type": "code",
   "execution_count": 194,
   "metadata": {},
   "outputs": [
    {
     "data": {
      "image/png": "[encoded data removed]",
      "text/plain": [
       "<Figure size 432x288 with 1 Axes>"
      ]
     },
     "metadata": {
      "needs_background": "light"
     },
     "output_type": "display_data"
    }
   ],
   "source": [
    "# points = [[0, 5],\n",
    "#           [1, 9],\n",
    "#           [2, 1],\n",
    "#           [3, 10],\n",
    "#           [4, 0],\n",
    "#           [5, 9],\n",
    "#           [6, 1]]\n",
    "\n",
    "points = [[0.000, 0.5],\n",
    "          [0.000, 0.5],\n",
    "          [0.000, 0.5],\n",
    "          [0.125, 0.8],\n",
    "          [0.375, -0.5],\n",
    "          [0.625, 0.0],\n",
    "          [0.875, 1.0],\n",
    "          [1.000, 0.5],\n",
    "          [1.000, 0.5],\n",
    "          [1.000, 0.5]]\n",
    "\n",
    "degree = 3\n",
    "result_list  = []\n",
    "for i in np.linspace(0, 1, 100):\n",
    "    result = interpolate(i, degree, points)\n",
    "    result_list.append(result)\n",
    "\n",
    "plot_interpolation(np.array(points), np.array(result_list))"
   ]
  }
 ],
 "metadata": {
  "interpreter": {
   "hash": "e7370f93d1d0cde622a1f8e1c04877d8463912d04d973331ad4851f04de6915a"
  },
  "kernelspec": {
   "display_name": "Python 3.8.10 64-bit",
   "language": "python",
   "name": "python3"
  },
  "language_info": {
   "codemirror_mode": {
    "name": "ipython",
    "version": 3
   },
   "file_extension": ".py",
   "mimetype": "text/x-python",
   "name": "python",
   "nbconvert_exporter": "python",
   "pygments_lexer": "ipython3",
   "version": "3.8.10"
  },
  "orig_nbformat": 4
 },
 "nbformat": 4,
 "nbformat_minor": 2
}
