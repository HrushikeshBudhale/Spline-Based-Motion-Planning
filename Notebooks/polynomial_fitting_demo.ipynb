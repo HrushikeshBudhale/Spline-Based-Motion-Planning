{
 "cells": [
  {
   "cell_type": "markdown",
   "metadata": {},
   "source": [
    "<h1 align='center'>Polynomial Fitting</h1>\n",
    "\n",
    "### This demo shows how an n-th order polynomial can be used to generate a smooth trajectory using initial and final system constraints over given period of time."
   ]
  },
  {
   "cell_type": "code",
   "execution_count": 4,
   "metadata": {},
   "outputs": [],
   "source": [
    "import sympy as sp\n",
    "import numpy as np\n",
    "from matplotlib import pyplot as plt"
   ]
  },
  {
   "cell_type": "code",
   "execution_count": 5,
   "metadata": {},
   "outputs": [],
   "source": [
    "t0, t, tf = sp.symbols('t_0, t, t_f')\n",
    "a0, a1, a2, a3, a4, a5 = sp.symbols('a_0, a_1, a_2, a_3, a_4, a_5')\n",
    "q0, v0, qf, vf, alpha0, alphaf = sp.symbols('q_0, v_0, q_f, v_f, \\\\alpha_0, \\\\alpha_f')"
   ]
  },
  {
   "cell_type": "markdown",
   "metadata": {},
   "source": [
    "### Here we choose 6th order (degree 5) polynomial to define 6 constraints. In which first 3 are over initial position, velocity and acceleration and later 3 are over final position, velocity and acceleration"
   ]
  },
  {
   "cell_type": "code",
   "execution_count": 6,
   "metadata": {},
   "outputs": [
    {
     "data": {
      "text/latex": [
       "$\\displaystyle a_{0} + a_{1} t_{0} + a_{2} t_{0}^{2} + a_{3} t_{0}^{3} + a_{4} t_{0}^{4} + a_{5} t_{0}^{5}$"
      ],
      "text/plain": [
       "a_0 + a_1*t_0 + a_2*t_0**2 + a_3*t_0**3 + a_4*t_0**4 + a_5*t_0**5"
      ]
     },
     "metadata": {},
     "output_type": "display_data"
    },
    {
     "data": {
      "text/latex": [
       "$\\displaystyle a_{1} + 2 a_{2} t_{0} + 3 a_{3} t_{0}^{2} + 4 a_{4} t_{0}^{3} + 5 a_{5} t_{0}^{4}$"
      ],
      "text/plain": [
       "a_1 + 2*a_2*t_0 + 3*a_3*t_0**2 + 4*a_4*t_0**3 + 5*a_5*t_0**4"
      ]
     },
     "metadata": {},
     "output_type": "display_data"
    },
    {
     "data": {
      "text/latex": [
       "$\\displaystyle 2 a_{2} + 6 a_{3} t_{0} + 12 a_{4} t_{0}^{2} + 20 a_{5} t_{0}^{3}$"
      ],
      "text/plain": [
       "2*a_2 + 6*a_3*t_0 + 12*a_4*t_0**2 + 20*a_5*t_0**3"
      ]
     },
     "metadata": {},
     "output_type": "display_data"
    },
    {
     "data": {
      "text/latex": [
       "$\\displaystyle a_{0} + a_{1} t_{f} + a_{2} t_{f}^{2} + a_{3} t_{f}^{3} + a_{4} t_{f}^{4} + a_{5} t_{f}^{5}$"
      ],
      "text/plain": [
       "a_0 + a_1*t_f + a_2*t_f**2 + a_3*t_f**3 + a_4*t_f**4 + a_5*t_f**5"
      ]
     },
     "metadata": {},
     "output_type": "display_data"
    },
    {
     "data": {
      "text/latex": [
       "$\\displaystyle a_{1} + 2 a_{2} t_{f} + 3 a_{3} t_{f}^{2} + 4 a_{4} t_{f}^{3} + 5 a_{5} t_{f}^{4}$"
      ],
      "text/plain": [
       "a_1 + 2*a_2*t_f + 3*a_3*t_f**2 + 4*a_4*t_f**3 + 5*a_5*t_f**4"
      ]
     },
     "metadata": {},
     "output_type": "display_data"
    },
    {
     "data": {
      "text/latex": [
       "$\\displaystyle 2 a_{2} + 6 a_{3} t_{f} + 12 a_{4} t_{f}^{2} + 20 a_{5} t_{f}^{3}$"
      ],
      "text/plain": [
       "2*a_2 + 6*a_3*t_f + 12*a_4*t_f**2 + 20*a_5*t_f**3"
      ]
     },
     "metadata": {},
     "output_type": "display_data"
    }
   ],
   "source": [
    "q0 = a0 + a1*t0 + a2*t0**2 + a3*t0**3 + a4*t0**4 + a5*t0**5\n",
    "display(q0)\n",
    "v0 = sp.diff(q0, t0)\n",
    "display(v0)\n",
    "alpha0 = sp.diff(v0, t0,)\n",
    "display(alpha0)\n",
    "qf = a0 + a1*tf + a2*tf**2 + a3*tf**3 + a4*tf**4 + a5*tf**5\n",
    "display(qf)\n",
    "vf = sp.diff(qf, tf)\n",
    "display(vf)\n",
    "alphaf = sp.diff(vf, tf)\n",
    "display(alphaf)"
   ]
  },
  {
   "cell_type": "markdown",
   "metadata": {},
   "source": [
    "### Using above equations we create a matrix and multiply it's inverse with the constraint vector to get all the coefficient values at given time.\n",
    "\n",
    "#### We define constraints such that \n",
    "- Initial position of vehicle is 2\n",
    "- Initially the vehicle is at stand still i.e velocity and acceleration is 0\n",
    "- Final position of vehicle should be 10\n",
    "- And at that position vehicle should stop i.e. final velocity and acceleration should be 0"
   ]
  },
  {
   "cell_type": "code",
   "execution_count": 7,
   "metadata": {},
   "outputs": [],
   "source": [
    "# Constraints\n",
    "q0 = 2\n",
    "v0 = 0\n",
    "alpha0 = 0\n",
    "qf = 10\n",
    "vf = 0\n",
    "alphaf = 0\n",
    "\n",
    "M = sp.Matrix([[1, t0, t0**2,   t0**3,    t0**4,    t0**5],\n",
    "               [0,  1,  2*t0, 3*t0**2,  4*t0**3,  5*t0**4],\n",
    "               [0,  0,     2,    6*t0, 12*t0**2, 20*t0**3],\n",
    "               [1, tf, tf**2,   tf**3,    tf**4,    tf**5],\n",
    "               [0,  1,  2*tf, 3*tf**2,  4*tf**3,  5*tf**4],\n",
    "               [0,  0,     2,    6*tf, 12*tf**2, 20*tf**3]])\n",
    "b = sp.Matrix([[q0], [v0], [alpha0], [qf], [vf], [alphaf]])\n",
    "\n",
    "a = M.inv() @ b"
   ]
  },
  {
   "cell_type": "code",
   "execution_count": 8,
   "metadata": {},
   "outputs": [],
   "source": [
    "q     =   a[0] +   a[1]*t +    a[2]*t**2 +    a[3]*t**3 +   a[4]*t**4 + a[5]*t**5\n",
    "v     =   a[1] + 2*a[2]*t +  3*a[3]*t**2 +  4*a[4]*t**3 + 5*a[5]*t**4\n",
    "alpha = 2*a[2] + 6*a[3]*t + 12*a[4]*t**2 + 20*a[5]*t**3"
   ]
  },
  {
   "cell_type": "code",
   "execution_count": 9,
   "metadata": {},
   "outputs": [
    {
     "data": {
      "image/png": "[encoded data removed]",
      "text/plain": [
       "<Figure size 1080x288 with 3 Axes>"
      ]
     },
     "metadata": {
      "needs_background": "light"
     },
     "output_type": "display_data"
    }
   ],
   "source": [
    "# Time limits\n",
    "startTime = 0\n",
    "stopTime = 1\n",
    "\n",
    "qd = list()\n",
    "vd = list()\n",
    "alphad = list()\n",
    "i_d = np.linspace(0, 1, 50)\n",
    "for i in i_d:\n",
    "    qd.append(q.subs([(t0, startTime), (t, i), (tf, stopTime)]))\n",
    "    vd.append(v.subs([(t0, startTime), (t, i), (tf, stopTime)]))\n",
    "    alphad.append(alpha.subs([(t0, startTime), (t, i), (tf, stopTime)]))\n",
    "\n",
    "fig, axs = plt.subplots(1, 3, figsize=(15, 4))\n",
    "axs[0].set(title=\"Position\")\n",
    "axs[0].plot(i_d[:], qd[:], 'b', lw=2)\n",
    "\n",
    "axs[1].set(title=\"Velocity\")\n",
    "axs[1].plot(i_d[:], vd[:], 'b', lw=2)\n",
    "\n",
    "axs[2].set(title=\"Acceleration\")\n",
    "axs[2].plot(i_d[:], alphad[:], 'b', lw=2)\n",
    "plt.show()"
   ]
  }
 ],
 "metadata": {
  "interpreter": {
   "hash": "e7370f93d1d0cde622a1f8e1c04877d8463912d04d973331ad4851f04de6915a"
  },
  "kernelspec": {
   "display_name": "Python 3.8.10 64-bit",
   "language": "python",
   "name": "python3"
  },
  "language_info": {
   "codemirror_mode": {
    "name": "ipython",
    "version": 3
   },
   "file_extension": ".py",
   "mimetype": "text/x-python",
   "name": "python",
   "nbconvert_exporter": "python",
   "pygments_lexer": "ipython3",
   "version": "3.8.10"
  },
  "orig_nbformat": 4
 },
 "nbformat": 4,
 "nbformat_minor": 2
}
