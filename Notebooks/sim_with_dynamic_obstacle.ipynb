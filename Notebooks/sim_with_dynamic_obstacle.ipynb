{
 "cells": [
  {
   "cell_type": "code",
   "execution_count": 1,
   "metadata": {},
   "outputs": [],
   "source": [
    "from omgtools import *"
   ]
  },
  {
   "cell_type": "code",
   "execution_count": 20,
   "metadata": {},
   "outputs": [],
   "source": [
    "vehicle = HolonomicOrient()\n",
    "vehicle.set_options({'safety_distance': 0.2})\n",
    "vehicle.set_options({'ideal_prediction': False})\n",
    "vehicle.set_initial_conditions([-2., 0.0, np.pi/2])\n",
    "vehicle.set_terminal_conditions([2., -1.0, np.pi/2])\n",
    "\n",
    "environment = Environment(room={'shape': Square(5.)})"
   ]
  },
  {
   "cell_type": "code",
   "execution_count": 21,
   "metadata": {},
   "outputs": [],
   "source": [
    "# create a dynamic obstacle\n",
    "rectangle = Rectangle(width=.7, height=.7)\n",
    "\n",
    "trajectories = {'velocity': {'time': [1., 3,],\n",
    "                             'values': [[0., -0.5], [0., 0.5]]}}\n",
    "environment.add_obstacle(Obstacle({'position': [0.7, 0.]}, shape=rectangle, simulation={'trajectories': trajectories}))"
   ]
  },
  {
   "cell_type": "code",
   "execution_count": null,
   "metadata": {},
   "outputs": [],
   "source": [
    "problem = Point2point(vehicle, environment, freeT=False)\n",
    "problem.set_options({'solver_options':\n",
    "    {'ipopt': {'ipopt.hessian_approximation': 'limited-memory'}}})\n",
    "problem.init()\n",
    "\n",
    "vehicle.problem = problem\n",
    "\n",
    "simulator = Simulator(problem)\n",
    "problem.plot('scene')\n",
    "simulator.run()\n",
    "problem.save_movie('scene', format='gif', name='dynamic', number_of_frames=80, movie_time=6, axis=True)"
   ]
  }
 ],
 "metadata": {
  "interpreter": {
   "hash": "e7370f93d1d0cde622a1f8e1c04877d8463912d04d973331ad4851f04de6915a"
  },
  "kernelspec": {
   "display_name": "Python 3.8.10 64-bit",
   "language": "python",
   "name": "python3"
  },
  "language_info": {
   "codemirror_mode": {
    "name": "ipython",
    "version": 3
   },
   "file_extension": ".py",
   "mimetype": "text/x-python",
   "name": "python",
   "nbconvert_exporter": "python",
   "pygments_lexer": "ipython3",
   "version": "3.8.10"
  },
  "orig_nbformat": 4
 },
 "nbformat": 4,
 "nbformat_minor": 2
}
